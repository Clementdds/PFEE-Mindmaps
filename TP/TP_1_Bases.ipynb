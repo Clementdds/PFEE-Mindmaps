{
  "nbformat": 4,
  "nbformat_minor": 0,
  "metadata": {
    "kernelspec": {
      "display_name": "Python 3",
      "language": "python",
      "name": "python3"
    },
    "language_info": {
      "codemirror_mode": {
        "name": "ipython",
        "version": 3
      },
      "file_extension": ".py",
      "mimetype": "text/x-python",
      "name": "python",
      "nbconvert_exporter": "python",
      "pygments_lexer": "ipython3",
      "version": "3.6.7"
    },
    "colab": {
      "name": "Copie de TP_1_Bases.ipynb",
      "provenance": [],
      "include_colab_link": true
    }
  },
  "cells": [
    {
      "cell_type": "markdown",
      "metadata": {
        "id": "view-in-github",
        "colab_type": "text"
      },
      "source": [
        "<a href=\"https://colab.research.google.com/github/Clementdds/PFEE-Mindmaps/blob/master/TP/TP_1_Bases.ipynb\" target=\"_parent\"><img src=\"https://colab.research.google.com/assets/colab-badge.svg\" alt=\"Open In Colab\"/></a>"
      ]
    },
    {
      "cell_type": "markdown",
      "metadata": {
        "id": "68vBpXuLHeHo"
      },
      "source": [
        "Instructions : \n",
        "- Importer ce notebook en utilisant https://colab.research.google.com/notebook . Ce lien d'import devrait fonctionner : https://colab.research.google.com/github/brumar/enseignements_python_epita/blob/master/Exercices/TP_1_Bases.ipynb\n",
        "- Créer une copie personelle\n",
        "- Ajoutez votre nom ci-dessous\n",
        "- Compléter les cellules et vérifier que les tests passent.\n",
        "- Avec le bouton \"share\", partagez moi le résultat (avant samedi soir)\n",
        "\n",
        "Vous pouvez ne pas utiliser l'outil de google, auquel cas, vous devez installer jupyter par vous même et me renvoyer le notebook complété par mail ou en m'invitant à un depôt Github ou Bitbucket qui contient votre fichier"
      ]
    },
    {
      "cell_type": "markdown",
      "metadata": {
        "id": "OY1v3HKYHeHq"
      },
      "source": [
        "**Important : Ecrire votre nom ici**\n",
        "\n",
        "NOM : Dedenis Clément"
      ]
    },
    {
      "cell_type": "markdown",
      "metadata": {
        "id": "h2A9CUTSHeHt"
      },
      "source": [
        "## 1"
      ]
    },
    {
      "cell_type": "code",
      "metadata": {
        "id": "nWYW4j44HeHv"
      },
      "source": [
        "# NE PAS MODIFIER - INITIALISATION\n",
        "initial_list = [1 , 7, 9, 11, 34]"
      ],
      "execution_count": 38,
      "outputs": []
    },
    {
      "cell_type": "code",
      "metadata": {
        "id": "P2jNgUixHeH4"
      },
      "source": [
        "# ECRIRE ICI\n",
        "\n",
        "# En utilisant une boucle for, \n",
        "# créér une nouvelle liste, new_list qui contient tous les éléments de la première liste au carré\n",
        "\n",
        "new_list = []\n",
        "for i in initial_list:\n",
        "  new_list.append(i**2)"
      ],
      "execution_count": 39,
      "outputs": []
    },
    {
      "cell_type": "code",
      "metadata": {
        "id": "y_9AH8EzHeH-"
      },
      "source": [
        "# NE PAS MODIFIER - VERIFICATION\n",
        "assert new_list == [1, 49, 81, 121, 1156]"
      ],
      "execution_count": 40,
      "outputs": []
    },
    {
      "cell_type": "markdown",
      "metadata": {
        "id": "HzeM39QGHeIE"
      },
      "source": [
        "## 2"
      ]
    },
    {
      "cell_type": "code",
      "metadata": {
        "id": "rMki2h2fHeIF"
      },
      "source": [
        "# NE PAS MODIFIER - INITIALISATION\n",
        "initial_list = [1 , 7, 9, 11, 34]"
      ],
      "execution_count": 41,
      "outputs": []
    },
    {
      "cell_type": "code",
      "metadata": {
        "id": "9AN9XJkqHeIK"
      },
      "source": [
        "# ECRIRE ICI\n",
        "\n",
        "# créér une nouvelle liste, new_list2 qui contient tous les éléments de la première liste au carré\n",
        "# Même exercice que précédement mais en utilisant les list comprehensions.\n",
        "\n",
        "new_list_2 = [x**2 for x in initial_list]"
      ],
      "execution_count": 42,
      "outputs": []
    },
    {
      "cell_type": "code",
      "metadata": {
        "id": "RVDViH_yHeIQ"
      },
      "source": [
        "# NE PAS MODIFIER - VERIFICATION\n",
        "assert new_list_2 == [1, 49, 81, 121, 1156]"
      ],
      "execution_count": 43,
      "outputs": []
    },
    {
      "cell_type": "markdown",
      "metadata": {
        "id": "uW1Qfem-HeIV"
      },
      "source": [
        "## 3"
      ]
    },
    {
      "cell_type": "code",
      "metadata": {
        "id": "sRkimjLdHeIW"
      },
      "source": [
        "# ECRIRE ICI\n",
        "\n",
        "# Ecrire une fonction nommée \"count_seven\" qui\" compte le nombre de 7 dans une liste.\n",
        "\n",
        "def count_seven(list):\n",
        "  return list.count(7)"
      ],
      "execution_count": 44,
      "outputs": []
    },
    {
      "cell_type": "code",
      "metadata": {
        "id": "WeahRPhJHeIa",
        "outputId": "bc3e562c-26fe-48f1-f2c7-f5a7ca7779f5",
        "colab": {
          "base_uri": "https://localhost:8080/",
          "height": 36
        }
      },
      "source": [
        "# NE PAS MODIFIER - VERIFICATION\n",
        "count_seven([1, 7, 9, 7, 34, 7, 23, 45]) == 3\n",
        "count_seven([11, 57, 9, 67, 34, 27, 23, 45]) == 0"
      ],
      "execution_count": 45,
      "outputs": [
        {
          "output_type": "execute_result",
          "data": {
            "text/plain": [
              "True"
            ]
          },
          "metadata": {
            "tags": []
          },
          "execution_count": 45
        }
      ]
    },
    {
      "cell_type": "markdown",
      "metadata": {
        "id": "caE6DtCWHeIe"
      },
      "source": [
        "## 4.1"
      ]
    },
    {
      "cell_type": "code",
      "metadata": {
        "id": "EdDwZnpOHeIf"
      },
      "source": [
        "# ECRIRE ICI\n",
        "\n",
        "# Ecrire une fonction, count_outliers qui liste les mots les d'un texte (premier argument) dépassant une taille fixée (deuxième argument)\n",
        "# Vous pouvez vous aider de cette fonction\n",
        "import re\n",
        "def word_splitter(text):\n",
        "    return re.findall(r\"\\b\\w+\\b\", text)\n",
        "    \n",
        "def count_outliers(text, length_max):\n",
        "  result = 0\n",
        "  for x in word_splitter(text):\n",
        "    result += len(x) > length_max\n",
        "  return result"
      ],
      "execution_count": 52,
      "outputs": []
    },
    {
      "cell_type": "code",
      "metadata": {
        "id": "qOoQSWYyHeIj"
      },
      "source": [
        "# NE PAS MODIFIER - VERIFICATION\n",
        "text1 = \"this is a short text with short words, except this one : unconstitutional\"\n",
        "text2 = \"this test contains only words of moderate length\"\n",
        "\n",
        "assert count_outliers(text=text1, length_max=10) == 1\n",
        "assert count_outliers(text=text2, length_max=5) == 3"
      ],
      "execution_count": 53,
      "outputs": []
    },
    {
      "cell_type": "markdown",
      "metadata": {
        "id": "8T0wXfUjHeIo"
      },
      "source": [
        "## 4.2"
      ]
    },
    {
      "cell_type": "code",
      "metadata": {
        "id": "iQVqeBgLHeIo"
      },
      "source": [
        "# ECRIRE ICI\n",
        "\n",
        "# Adapter l'exemple précédent pour faire en sorte que la taille max de count_outlierspar défaut soit 5\n",
        "\n",
        "def count_outliers(text, length_max = 5):\n",
        "  result = 0\n",
        "  for x in word_splitter(text):\n",
        "    result += len(x) > length_max\n",
        "  return result"
      ],
      "execution_count": 58,
      "outputs": []
    },
    {
      "cell_type": "code",
      "metadata": {
        "id": "-_9mq2TIHeIt"
      },
      "source": [
        "assert count_outliers(text=text1, length_max=10) == 1\n",
        "assert count_outliers(text=text2) == 3"
      ],
      "execution_count": 59,
      "outputs": []
    },
    {
      "cell_type": "markdown",
      "metadata": {
        "id": "fEj985X0HeIy"
      },
      "source": [
        "## 4.2"
      ]
    },
    {
      "cell_type": "code",
      "metadata": {
        "id": "rvFNpZ2gHeIz"
      },
      "source": [
        "# ECRIRE ICI\n",
        "\n",
        "# Adapter l'exemple précédent en version orientée objet\n",
        "# Définir une classe OutlierCounter telle que les tests ci dessous passent\n",
        "\n",
        "class OutlierCounter:\n",
        "  def __init__(self, length_max):\n",
        "        self.length_max = length_max\n",
        "  \n",
        "  def count(self, text):\n",
        "    result = 0\n",
        "    for x in word_splitter(text):\n",
        "      result += len(x) > self.length_max\n",
        "    return result"
      ],
      "execution_count": 60,
      "outputs": []
    },
    {
      "cell_type": "code",
      "metadata": {
        "id": "eDiv4opoHeI3"
      },
      "source": [
        "count_outliers = OutlierCounter(length_max=10)\n",
        "assert count_outliers.count(text1) == 1\n",
        "\n",
        "count_outliers.length_max = 5\n",
        "assert count_outliers.count(text2) == 3"
      ],
      "execution_count": 61,
      "outputs": []
    },
    {
      "cell_type": "markdown",
      "metadata": {
        "id": "tfu5Zj1KHeI7"
      },
      "source": [
        "## 5 "
      ]
    },
    {
      "cell_type": "code",
      "metadata": {
        "id": "BYQZ6p7oHeI8"
      },
      "source": [
        "# ECRIRE ICI\n",
        "\n",
        "# Implémenter une classe Bus telle que les tests écrits ci-dessous passent\n",
        "\n",
        "class Bus:\n",
        "  def __init__(self, list):\n",
        "    self.passengers = list\n",
        "  \n",
        "  def pick(self, person):\n",
        "    self.passengers.append(person)\n",
        "    \n",
        "  def drop(self, person):\n",
        "    self.passengers.remove(person)"
      ],
      "execution_count": 66,
      "outputs": []
    },
    {
      "cell_type": "code",
      "metadata": {
        "id": "NUbLLsleHeI_"
      },
      "source": [
        "# NE PAS MODIFIER - VERIFICATION\n",
        "\n",
        "bus1 = Bus(['Alice', 'Bill'])\n",
        "assert bus1.passengers == ['Alice', 'Bill']\n",
        "\n",
        "bus1.pick('Charlie')\n",
        "bus1.drop('Alice')\n",
        "assert set(bus1.passengers) == set(['Charlie', 'Bill'])"
      ],
      "execution_count": 67,
      "outputs": []
    },
    {
      "cell_type": "markdown",
      "metadata": {
        "id": "VdC1kr11HeJD"
      },
      "source": [
        "## 6 (difficile)"
      ]
    },
    {
      "cell_type": "code",
      "metadata": {
        "id": "CPx9nzC_HeJD"
      },
      "source": [
        "# ECRIRE ICI\n",
        "\n",
        "# Ecrire un decorateur apellé preventnone (rappel : une fonction qui prend et retourne une fonction)\n",
        "# Qui soulève une exception si des arguments vaut None\n",
        "\n",
        "def preventnone(function):\n",
        "  def new_function(*args, **kwargs):\n",
        "    for x in args:\n",
        "      if x is None:\n",
        "        raise Exception(\"Argument is None\")\n",
        "    for key, value in kwargs.items():\n",
        "      if value is None:\n",
        "        raise Exception(\"Argument is None\") \n",
        "    result = function(*args, **kwargs)\n",
        "    return result\n",
        "  return new_function"
      ],
      "execution_count": 74,
      "outputs": []
    },
    {
      "cell_type": "code",
      "metadata": {
        "id": "0JgvdcTyHeJI",
        "outputId": "1f0c289f-1902-42d9-8b87-9deb36b03f48",
        "colab": {
          "base_uri": "https://localhost:8080/",
          "height": 36
        }
      },
      "source": [
        "# NE PAS MODIFIER - VERIFICATION\n",
        "@preventnone\n",
        "def myfunction(a, b, c, d=True):\n",
        "    print(a, b, c ,d)\n",
        "myfunction(1,2,3,4)"
      ],
      "execution_count": 75,
      "outputs": [
        {
          "output_type": "stream",
          "text": [
            "1 2 3 4\n"
          ],
          "name": "stdout"
        }
      ]
    },
    {
      "cell_type": "code",
      "metadata": {
        "id": "cOZc_PNmHeJK",
        "outputId": "068a4d79-9786-433d-fff4-561dc060cbd5",
        "colab": {
          "base_uri": "https://localhost:8080/",
          "height": 322
        }
      },
      "source": [
        "# NE PAS MODIFIER - VERIFICATION\n",
        "myfunction(1,2,3,None)  # shoud raise an exception"
      ],
      "execution_count": 76,
      "outputs": [
        {
          "output_type": "error",
          "ename": "Exception",
          "evalue": "ignored",
          "traceback": [
            "\u001b[0;31m---------------------------------------------------------------------------\u001b[0m",
            "\u001b[0;31mException\u001b[0m                                 Traceback (most recent call last)",
            "\u001b[0;32m<ipython-input-76-4fb5a0498c13>\u001b[0m in \u001b[0;36m<module>\u001b[0;34m()\u001b[0m\n\u001b[1;32m      1\u001b[0m \u001b[0;31m# NE PAS MODIFIER - VERIFICATION\u001b[0m\u001b[0;34m\u001b[0m\u001b[0;34m\u001b[0m\u001b[0;34m\u001b[0m\u001b[0m\n\u001b[0;32m----> 2\u001b[0;31m \u001b[0mmyfunction\u001b[0m\u001b[0;34m(\u001b[0m\u001b[0;36m1\u001b[0m\u001b[0;34m,\u001b[0m\u001b[0;36m2\u001b[0m\u001b[0;34m,\u001b[0m\u001b[0;36m3\u001b[0m\u001b[0;34m,\u001b[0m\u001b[0;32mNone\u001b[0m\u001b[0;34m)\u001b[0m  \u001b[0;31m# shoud raise an exception\u001b[0m\u001b[0;34m\u001b[0m\u001b[0;34m\u001b[0m\u001b[0m\n\u001b[0m",
            "\u001b[0;32m<ipython-input-74-d84036f3e28c>\u001b[0m in \u001b[0;36mnew_function\u001b[0;34m(*args, **kwargs)\u001b[0m\n\u001b[1;32m      8\u001b[0m     \u001b[0;32mfor\u001b[0m \u001b[0mx\u001b[0m \u001b[0;32min\u001b[0m \u001b[0margs\u001b[0m\u001b[0;34m:\u001b[0m\u001b[0;34m\u001b[0m\u001b[0;34m\u001b[0m\u001b[0m\n\u001b[1;32m      9\u001b[0m       \u001b[0;32mif\u001b[0m \u001b[0mx\u001b[0m \u001b[0;32mis\u001b[0m \u001b[0;32mNone\u001b[0m\u001b[0;34m:\u001b[0m\u001b[0;34m\u001b[0m\u001b[0;34m\u001b[0m\u001b[0m\n\u001b[0;32m---> 10\u001b[0;31m         \u001b[0;32mraise\u001b[0m \u001b[0mException\u001b[0m\u001b[0;34m(\u001b[0m\u001b[0;34m\"Argument is None\"\u001b[0m\u001b[0;34m)\u001b[0m\u001b[0;34m\u001b[0m\u001b[0;34m\u001b[0m\u001b[0m\n\u001b[0m\u001b[1;32m     11\u001b[0m     \u001b[0;32mfor\u001b[0m \u001b[0mkey\u001b[0m\u001b[0;34m,\u001b[0m \u001b[0mvalue\u001b[0m \u001b[0;32min\u001b[0m \u001b[0mkwargs\u001b[0m\u001b[0;34m.\u001b[0m\u001b[0mitems\u001b[0m\u001b[0;34m(\u001b[0m\u001b[0;34m)\u001b[0m\u001b[0;34m:\u001b[0m\u001b[0;34m\u001b[0m\u001b[0;34m\u001b[0m\u001b[0m\n\u001b[1;32m     12\u001b[0m       \u001b[0;32mif\u001b[0m \u001b[0mvalue\u001b[0m \u001b[0;32mis\u001b[0m \u001b[0;32mNone\u001b[0m\u001b[0;34m:\u001b[0m\u001b[0;34m\u001b[0m\u001b[0;34m\u001b[0m\u001b[0m\n",
            "\u001b[0;31mException\u001b[0m: Argument is None"
          ]
        }
      ]
    },
    {
      "cell_type": "code",
      "metadata": {
        "id": "EGkov3k6HeJO",
        "outputId": "c179960b-c277-456d-a431-d817dcd74937",
        "colab": {
          "base_uri": "https://localhost:8080/",
          "height": 322
        }
      },
      "source": [
        "# NE PAS MODIFIER - VERIFICATION\n",
        "myfunction(None)  # shoud raise an exception"
      ],
      "execution_count": 77,
      "outputs": [
        {
          "output_type": "error",
          "ename": "Exception",
          "evalue": "ignored",
          "traceback": [
            "\u001b[0;31m---------------------------------------------------------------------------\u001b[0m",
            "\u001b[0;31mException\u001b[0m                                 Traceback (most recent call last)",
            "\u001b[0;32m<ipython-input-77-4a513fa7d3b0>\u001b[0m in \u001b[0;36m<module>\u001b[0;34m()\u001b[0m\n\u001b[1;32m      1\u001b[0m \u001b[0;31m# NE PAS MODIFIER - VERIFICATION\u001b[0m\u001b[0;34m\u001b[0m\u001b[0;34m\u001b[0m\u001b[0;34m\u001b[0m\u001b[0m\n\u001b[0;32m----> 2\u001b[0;31m \u001b[0mmyfunction\u001b[0m\u001b[0;34m(\u001b[0m\u001b[0;32mNone\u001b[0m\u001b[0;34m)\u001b[0m  \u001b[0;31m# shoud raise an exception\u001b[0m\u001b[0;34m\u001b[0m\u001b[0;34m\u001b[0m\u001b[0m\n\u001b[0m",
            "\u001b[0;32m<ipython-input-74-d84036f3e28c>\u001b[0m in \u001b[0;36mnew_function\u001b[0;34m(*args, **kwargs)\u001b[0m\n\u001b[1;32m      8\u001b[0m     \u001b[0;32mfor\u001b[0m \u001b[0mx\u001b[0m \u001b[0;32min\u001b[0m \u001b[0margs\u001b[0m\u001b[0;34m:\u001b[0m\u001b[0;34m\u001b[0m\u001b[0;34m\u001b[0m\u001b[0m\n\u001b[1;32m      9\u001b[0m       \u001b[0;32mif\u001b[0m \u001b[0mx\u001b[0m \u001b[0;32mis\u001b[0m \u001b[0;32mNone\u001b[0m\u001b[0;34m:\u001b[0m\u001b[0;34m\u001b[0m\u001b[0;34m\u001b[0m\u001b[0m\n\u001b[0;32m---> 10\u001b[0;31m         \u001b[0;32mraise\u001b[0m \u001b[0mException\u001b[0m\u001b[0;34m(\u001b[0m\u001b[0;34m\"Argument is None\"\u001b[0m\u001b[0;34m)\u001b[0m\u001b[0;34m\u001b[0m\u001b[0;34m\u001b[0m\u001b[0m\n\u001b[0m\u001b[1;32m     11\u001b[0m     \u001b[0;32mfor\u001b[0m \u001b[0mkey\u001b[0m\u001b[0;34m,\u001b[0m \u001b[0mvalue\u001b[0m \u001b[0;32min\u001b[0m \u001b[0mkwargs\u001b[0m\u001b[0;34m.\u001b[0m\u001b[0mitems\u001b[0m\u001b[0;34m(\u001b[0m\u001b[0;34m)\u001b[0m\u001b[0;34m:\u001b[0m\u001b[0;34m\u001b[0m\u001b[0;34m\u001b[0m\u001b[0m\n\u001b[1;32m     12\u001b[0m       \u001b[0;32mif\u001b[0m \u001b[0mvalue\u001b[0m \u001b[0;32mis\u001b[0m \u001b[0;32mNone\u001b[0m\u001b[0;34m:\u001b[0m\u001b[0;34m\u001b[0m\u001b[0;34m\u001b[0m\u001b[0m\n",
            "\u001b[0;31mException\u001b[0m: Argument is None"
          ]
        }
      ]
    },
    {
      "cell_type": "code",
      "metadata": {
        "id": "lMV0PaRhHeJV",
        "outputId": "46e1bef0-4cf7-43c8-87cc-77530cdc9858",
        "colab": {
          "base_uri": "https://localhost:8080/",
          "height": 322
        }
      },
      "source": [
        "# NE PAS MODIFIER - VERIFICATION\n",
        "myfunction(d=None)  # shoud raise an exception"
      ],
      "execution_count": 78,
      "outputs": [
        {
          "output_type": "error",
          "ename": "Exception",
          "evalue": "ignored",
          "traceback": [
            "\u001b[0;31m---------------------------------------------------------------------------\u001b[0m",
            "\u001b[0;31mException\u001b[0m                                 Traceback (most recent call last)",
            "\u001b[0;32m<ipython-input-78-e9a3f284b8ce>\u001b[0m in \u001b[0;36m<module>\u001b[0;34m()\u001b[0m\n\u001b[1;32m      1\u001b[0m \u001b[0;31m# NE PAS MODIFIER - VERIFICATION\u001b[0m\u001b[0;34m\u001b[0m\u001b[0;34m\u001b[0m\u001b[0;34m\u001b[0m\u001b[0m\n\u001b[0;32m----> 2\u001b[0;31m \u001b[0mmyfunction\u001b[0m\u001b[0;34m(\u001b[0m\u001b[0md\u001b[0m\u001b[0;34m=\u001b[0m\u001b[0;32mNone\u001b[0m\u001b[0;34m)\u001b[0m  \u001b[0;31m# shoud raise an exception\u001b[0m\u001b[0;34m\u001b[0m\u001b[0;34m\u001b[0m\u001b[0m\n\u001b[0m",
            "\u001b[0;32m<ipython-input-74-d84036f3e28c>\u001b[0m in \u001b[0;36mnew_function\u001b[0;34m(*args, **kwargs)\u001b[0m\n\u001b[1;32m     11\u001b[0m     \u001b[0;32mfor\u001b[0m \u001b[0mkey\u001b[0m\u001b[0;34m,\u001b[0m \u001b[0mvalue\u001b[0m \u001b[0;32min\u001b[0m \u001b[0mkwargs\u001b[0m\u001b[0;34m.\u001b[0m\u001b[0mitems\u001b[0m\u001b[0;34m(\u001b[0m\u001b[0;34m)\u001b[0m\u001b[0;34m:\u001b[0m\u001b[0;34m\u001b[0m\u001b[0;34m\u001b[0m\u001b[0m\n\u001b[1;32m     12\u001b[0m       \u001b[0;32mif\u001b[0m \u001b[0mvalue\u001b[0m \u001b[0;32mis\u001b[0m \u001b[0;32mNone\u001b[0m\u001b[0;34m:\u001b[0m\u001b[0;34m\u001b[0m\u001b[0;34m\u001b[0m\u001b[0m\n\u001b[0;32m---> 13\u001b[0;31m         \u001b[0;32mraise\u001b[0m \u001b[0mException\u001b[0m\u001b[0;34m(\u001b[0m\u001b[0;34m\"Argument is None\"\u001b[0m\u001b[0;34m)\u001b[0m\u001b[0;34m\u001b[0m\u001b[0;34m\u001b[0m\u001b[0m\n\u001b[0m\u001b[1;32m     14\u001b[0m     \u001b[0mresult\u001b[0m \u001b[0;34m=\u001b[0m \u001b[0mfunction\u001b[0m\u001b[0;34m(\u001b[0m\u001b[0;34m*\u001b[0m\u001b[0margs\u001b[0m\u001b[0;34m,\u001b[0m \u001b[0;34m**\u001b[0m\u001b[0mkwargs\u001b[0m\u001b[0;34m)\u001b[0m\u001b[0;34m\u001b[0m\u001b[0;34m\u001b[0m\u001b[0m\n\u001b[1;32m     15\u001b[0m     \u001b[0;32mreturn\u001b[0m \u001b[0mresult\u001b[0m\u001b[0;34m\u001b[0m\u001b[0;34m\u001b[0m\u001b[0m\n",
            "\u001b[0;31mException\u001b[0m: Argument is None"
          ]
        }
      ]
    },
    {
      "cell_type": "code",
      "metadata": {
        "id": "Y9I22i8dHeJa"
      },
      "source": [
        ""
      ],
      "execution_count": null,
      "outputs": []
    }
  ]
}